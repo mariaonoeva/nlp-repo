{
 "cells": [
  {
   "metadata": {},
   "cell_type": "markdown",
   "source": [
    "Hey, here I simply extract all sentences ending with \"?\" to csv file. \n",
    "\n",
    "Importing all libraries: "
   ],
   "id": "aa8b7ef3156cc44d"
  },
  {
   "metadata": {
    "ExecuteTime": {
     "end_time": "2025-05-26T14:00:56.929436Z",
     "start_time": "2025-05-26T14:00:56.498724Z"
    }
   },
   "cell_type": "code",
   "source": [
    "import re\n",
    "import os\n",
    "from collections import Counter\n",
    "import nltk\n",
    "from nltk.tokenize import sent_tokenize, word_tokenize, regexp_tokenize\n",
    "import csv"
   ],
   "id": "34901e460be4ab7c",
   "outputs": [],
   "execution_count": 1
  },
  {
   "metadata": {
    "ExecuteTime": {
     "end_time": "2025-05-26T14:01:01.258288Z",
     "start_time": "2025-05-26T14:01:01.052499Z"
    }
   },
   "cell_type": "code",
   "source": [
    "# This is necessary because I had the error with loading nltk parts \n",
    "nltk.download('punkt_tab')\n",
    "import ssl\n",
    "\n",
    "try:\n",
    "    _create_unverified_https_context = ssl._create_unverified_context\n",
    "except AttributeError:\n",
    "    pass\n",
    "else:\n",
    "    ssl._create_default_https_context = _create_unverified_https_context"
   ],
   "id": "b650910d62eeff92",
   "outputs": [
    {
     "name": "stderr",
     "output_type": "stream",
     "text": [
      "[nltk_data] Downloading package punkt_tab to\n",
      "[nltk_data]     /Users/maria.onoeva/nltk_data...\n",
      "[nltk_data]   Package punkt_tab is already up-to-date!\n"
     ]
    }
   ],
   "execution_count": 2
  },
  {
   "metadata": {},
   "cell_type": "markdown",
   "source": "Setting a working directory.",
   "id": "622d8f6700c2e91f"
  },
  {
   "metadata": {
    "ExecuteTime": {
     "end_time": "2025-05-26T14:01:04.351068Z",
     "start_time": "2025-05-26T14:01:04.347982Z"
    }
   },
   "cell_type": "code",
   "source": "os.chdir(\"/Users/maria.onoeva/Desktop/new_folder/GitHub/nlp-repo\")",
   "id": "9ab22330a4711df2",
   "outputs": [],
   "execution_count": 3
  },
  {
   "metadata": {},
   "cell_type": "markdown",
   "source": "Loading the text to the variable <code>text</code>.",
   "id": "4e5f1678081059d5"
  },
  {
   "metadata": {
    "ExecuteTime": {
     "end_time": "2025-05-26T14:01:07.287394Z",
     "start_time": "2025-05-26T14:01:07.278988Z"
    }
   },
   "cell_type": "code",
   "source": [
    "with open('questions/txts/HP_1ru_Spivak.txt', 'r') as file:\n",
    "    text_ru = file.read()\n",
    "\n",
    "with open('questions/txts/HP_1.txt', 'r') as file:\n",
    "    text_eng = file.read()"
   ],
   "id": "38c9ec4d4ed1302a",
   "outputs": [],
   "execution_count": 4
  },
  {
   "metadata": {
    "ExecuteTime": {
     "end_time": "2025-05-26T14:01:13.209619Z",
     "start_time": "2025-05-26T14:01:13.040352Z"
    }
   },
   "cell_type": "code",
   "source": [
    "sentences_ru = sent_tokenize(text_ru.replace(\"\\n\", \" \"), language='russian')\n",
    "sentences_eng = sent_tokenize(text_eng.replace(\"\\n\", \" \"), language='english')\n",
    "\n",
    "question_pattern = '?'\n",
    "\n",
    "questions_ru = [sent for sent in sentences_ru if question_pattern in sent]\n",
    "questions_eng = [sent for sent in sentences_eng if question_pattern in sent]\n",
    "\n",
    "print(len(questions_ru), len(questions_eng))"
   ],
   "id": "9731ac15f30c305e",
   "outputs": [
    {
     "name": "stdout",
     "output_type": "stream",
     "text": [
      "852 754\n"
     ]
    }
   ],
   "execution_count": 5
  },
  {
   "metadata": {
    "ExecuteTime": {
     "end_time": "2025-05-26T14:01:20.539564Z",
     "start_time": "2025-05-26T14:01:20.532841Z"
    }
   },
   "cell_type": "code",
   "source": [
    "from itertools import zip_longest\n",
    "import csv\n",
    "\n",
    "with open('questions/csvs/output.csv', mode='w', newline='') as file:\n",
    "    writer = csv.writer(file, delimiter=';')\n",
    "    \n",
    "    # Write header row\n",
    "    writer.writerow(['ID', 'Russian', 'English'])\n",
    "    \n",
    "    # Use enumerate to add an ID for each row, starting at 1\n",
    "    for id_num, (ru, eng) in enumerate(zip_longest(questions_ru, questions_eng, fillvalue=''), start=1):\n",
    "        writer.writerow([id_num, ru, eng])\n"
   ],
   "id": "737d029cb7829aa7",
   "outputs": [],
   "execution_count": 6
  },
  {
   "metadata": {
    "ExecuteTime": {
     "end_time": "2025-03-12T13:42:57.946057Z",
     "start_time": "2025-03-12T13:42:57.943415Z"
    }
   },
   "cell_type": "code",
   "source": "",
   "id": "2bff2d2975328b9",
   "outputs": [],
   "execution_count": 6
  }
 ],
 "metadata": {
  "kernelspec": {
   "display_name": "Python 3",
   "language": "python",
   "name": "python3"
  },
  "language_info": {
   "codemirror_mode": {
    "name": "ipython",
    "version": 2
   },
   "file_extension": ".py",
   "mimetype": "text/x-python",
   "name": "python",
   "nbconvert_exporter": "python",
   "pygments_lexer": "ipython2",
   "version": "2.7.6"
  }
 },
 "nbformat": 4,
 "nbformat_minor": 5
}
