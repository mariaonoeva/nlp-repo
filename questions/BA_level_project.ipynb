{
 "cells": [
  {
   "metadata": {},
   "cell_type": "markdown",
   "source": [
    "# My BA level computational linguistics project\n",
    "### Start date: 26 May 2025\n",
    "\n",
    "Hi, this is a notebook where I practice my NLP skills. I use Harry Potter books in Russian as a data set. This is my BA level computational linguistic project. \n",
    "\n",
    "- Linguistics: automatically annotate wh-questions and polar questions\n",
    "- Computational: train a model on this annotation and test it on a different set "
   ],
   "id": "94631c47a02e295c"
  },
  {
   "metadata": {},
   "cell_type": "markdown",
   "source": "## Step 1: Loading and preprocessing text ",
   "id": "987061840190b1cd"
  },
  {
   "metadata": {
    "ExecuteTime": {
     "end_time": "2025-06-19T10:20:53.473452Z",
     "start_time": "2025-06-19T10:20:53.451555Z"
    }
   },
   "cell_type": "code",
   "source": [
    "import os\n",
    "os.chdir(\"/Users/maria.onoeva/Desktop/new_folder/GitHub/nlp-repo\")\n",
    "path = 'questions/txts/'\n",
    "all_HP = '/Users/maria.onoeva/Desktop/HP_all_ru_Spivak.txt'\n",
    "\n",
    "with open(all_HP, encoding='utf8') as file:\n",
    "    text_ru = file.read()\n"
   ],
   "id": "518485f73f464ad6",
   "outputs": [],
   "execution_count": 2
  },
  {
   "metadata": {
    "ExecuteTime": {
     "end_time": "2025-06-19T10:20:53.594803Z",
     "start_time": "2025-06-19T10:20:53.474570Z"
    }
   },
   "cell_type": "code",
   "source": [
    "import re\n",
    "text_ru_cleaned = re.sub(r'\\.(?!\\s)', '. ', text_ru)\n",
    "\n",
    "# Replace CRLF and other common line breaks with a space\n",
    "text_ru_cleaned = text_ru_cleaned.replace('\\r\\n', ' ').replace('\\n', ' ').replace('\\r', ' ')\n",
    "\n",
    "# Replace actual non-breaking space (Unicode \\u00A0), not the string 'NBSP'\n",
    "text_ru_cleaned = text_ru_cleaned.replace('\\u00A0', ' ')\n",
    "\n",
    "text_ru_cleaned = re.sub(r'\\s{2,}', ' ', text_ru_cleaned)\n",
    "text_ru_cleaned = text_ru_cleaned.strip()"
   ],
   "id": "15f2baecec7d525f",
   "outputs": [],
   "execution_count": 3
  },
  {
   "metadata": {},
   "cell_type": "markdown",
   "source": [
    "I import Russian from spaCy and initialize it in `nlp`. It then creates a so-called `doc` object. Docs contain tokens and if I call `doc[34]`, it will return the 34th token in this doc. There is also a `span` object as below. \n",
    "\n",
    "Разобраться со спейси!!"
   ],
   "id": "58aa8c8bff83806d"
  },
  {
   "metadata": {
    "ExecuteTime": {
     "end_time": "2025-06-19T10:20:55.908507Z",
     "start_time": "2025-06-19T10:20:53.595870Z"
    }
   },
   "cell_type": "code",
   "source": [
    "import spacy\n",
    "\n",
    "questions_spacy = []\n",
    "nlp = spacy.load(\"ru_core_news_sm\", disable=[\"ner\", \"lemmatizer\", \"tok2vec\", \"attribute_ruler\"])\n",
    "print(nlp.pipe_names)\n",
    "\n",
    "nlp.max_length = 5606530"
   ],
   "id": "54d4810f81a37423",
   "outputs": [
    {
     "name": "stdout",
     "output_type": "stream",
     "text": [
      "['morphologizer', 'parser']\n"
     ]
    }
   ],
   "execution_count": 4
  },
  {
   "metadata": {},
   "cell_type": "markdown",
   "source": "Now I want to print out some sentences. Since I investigate questions, I want to print out some of them. The first step is to extract all questions or sentences with a question mark at the end. Update: now I check whether sent contains '?' because I can have '??' (well this is ok with the previous method) or '?!'.",
   "id": "be297a82738c90e3"
  },
  {
   "metadata": {},
   "cell_type": "markdown",
   "source": "I am not completely happy about automatic sentencing by `spaCy`. I'll try `nltk`.",
   "id": "4e2aa7438e0e788e"
  },
  {
   "metadata": {
    "ExecuteTime": {
     "end_time": "2025-06-19T10:20:56.357395Z",
     "start_time": "2025-06-19T10:20:55.909583Z"
    }
   },
   "cell_type": "code",
   "source": [
    "import nltk\n",
    "from nltk.tokenize import sent_tokenize\n",
    "\n",
    "# This is necessary because I had the error with loading nltk parts \n",
    "nltk.download('punkt_tab')\n",
    "import ssl\n",
    "\n",
    "try:\n",
    "    _create_unverified_https_context = ssl._create_unverified_context\n",
    "except AttributeError:\n",
    "    pass\n",
    "else:\n",
    "    ssl._create_default_https_context = _create_unverified_https_context"
   ],
   "id": "a6fcbd57ee7a3a87",
   "outputs": [
    {
     "name": "stderr",
     "output_type": "stream",
     "text": [
      "[nltk_data] Downloading package punkt_tab to\n",
      "[nltk_data]     /Users/maria.onoeva/nltk_data...\n",
      "[nltk_data]   Package punkt_tab is already up-to-date!\n"
     ]
    }
   ],
   "execution_count": 5
  },
  {
   "metadata": {
    "ExecuteTime": {
     "end_time": "2025-06-19T10:20:56.978940Z",
     "start_time": "2025-06-19T10:20:56.358307Z"
    }
   },
   "cell_type": "code",
   "source": [
    "sentences_nltk = sent_tokenize(text_ru_cleaned, language='russian')\n",
    "question_pattern = '?'\n",
    "questions_nltk = [sent for sent in sentences_nltk if question_pattern in sent]"
   ],
   "id": "dae2d7897728f18d",
   "outputs": [],
   "execution_count": 6
  },
  {
   "metadata": {},
   "cell_type": "markdown",
   "source": "Not the best but seems better. I am going to try another tool, [Natasha](https://natasha.github.io/).",
   "id": "715d89c233e64c6e"
  },
  {
   "metadata": {
    "ExecuteTime": {
     "end_time": "2025-06-19T10:21:03.206283Z",
     "start_time": "2025-06-19T10:20:56.979539Z"
    }
   },
   "cell_type": "code",
   "source": [
    "from natasha import Segmenter, Doc\n",
    "\n",
    "segmenter = Segmenter()\n",
    "natasha_doc = Doc(text_ru_cleaned)\n",
    "\n",
    "natasha_sentences = natasha_doc.segment(segmenter)\n",
    "questions_natasha = [sent.text for sent in natasha_doc.sents if question_pattern in sent.text]"
   ],
   "id": "4d5abeec02bccd30",
   "outputs": [],
   "execution_count": 7
  },
  {
   "metadata": {
    "ExecuteTime": {
     "end_time": "2025-06-19T10:21:03.209192Z",
     "start_time": "2025-06-19T10:21:03.207052Z"
    }
   },
   "cell_type": "code",
   "source": [
    "#print(f'spaCy: {len(questions_spacy)}' )\n",
    "print(f'NLTK: {len(questions_nltk)}')\n",
    "print(f'Natasha: {len(questions_natasha)}')"
   ],
   "id": "96dade7351f17f82",
   "outputs": [
    {
     "name": "stdout",
     "output_type": "stream",
     "text": [
      "NLTK: 11263\n",
      "Natasha: 11252\n"
     ]
    }
   ],
   "execution_count": 8
  },
  {
   "metadata": {},
   "cell_type": "markdown",
   "source": "I want to compare questions from all three tools. ",
   "id": "2793e57afe0ab73f"
  },
  {
   "metadata": {
    "ExecuteTime": {
     "end_time": "2025-06-19T10:21:03.237327Z",
     "start_time": "2025-06-19T10:21:03.210063Z"
    }
   },
   "cell_type": "code",
   "source": [
    "from itertools import zip_longest\n",
    "import csv\n",
    "\n",
    "questions_3_tools = 'questions/csvs/questions_3_tools.csv'\n",
    "\n",
    "with open(questions_3_tools, mode='w', newline='') as file:\n",
    "    writer = csv.writer(file, delimiter=';')\n",
    "    \n",
    "    # Write header row\n",
    "    writer.writerow(['ID', 'NLTK', 'Natasha'])\n",
    "    \n",
    "    # Use enumerate to add an ID for each row, starting at 1\n",
    "    for id_num, (nltk, natasha) in enumerate(zip_longest(questions_nltk, questions_natasha, fillvalue=''), start=1):\n",
    "        writer.writerow([id_num, nltk, natasha])             \n"
   ],
   "id": "58a0ba2a501f30e3",
   "outputs": [],
   "execution_count": 9
  },
  {
   "metadata": {},
   "cell_type": "markdown",
   "source": [
    "I picked Natasha as sentencizer for Ru, it seems more accurate than others. But it still needs cleaning, so: \n",
    "1) I match all that begins with a capital letter and ends with a question mark; if no match, returns just an input text \n",
    "2) Then I replace all that might precede a question, it usually begins with a capital letter and marked with ': -'"
   ],
   "id": "1201d632bfe8580"
  },
  {
   "metadata": {
    "ExecuteTime": {
     "end_time": "2025-06-19T10:21:03.241196Z",
     "start_time": "2025-06-19T10:21:03.239167Z"
    }
   },
   "cell_type": "code",
   "source": [
    "def hyphen_start(text):\n",
    "    pattern = r\"^\\– \"\n",
    "    sub_str = re.sub(pattern, \"\", text)\n",
    "    return sub_str\n",
    "\n",
    "def extract_question_or_full(text):\n",
    "    pattern = r\"^[А-ЯA-Z][^?]*\\?\"\n",
    "    match = re.match(pattern, text)\n",
    "    return match.group() if match else text\n",
    "\n",
    "def extract_question_or_full2(text):\n",
    "    pattern = r\"^[А-ЯA-Z][^?]*\\: – \"\n",
    "    sub_str = re.sub(pattern, '', text)\n",
    "    return sub_str\n"
   ],
   "id": "719afbaf2394fb70",
   "outputs": [],
   "execution_count": 10
  },
  {
   "metadata": {
    "ExecuteTime": {
     "end_time": "2025-06-19T10:21:03.630200Z",
     "start_time": "2025-06-19T10:21:03.241696Z"
    }
   },
   "cell_type": "code",
   "source": [
    "import pandas as pd\n",
    "\n",
    "questions_pd = pd.read_csv(questions_3_tools, sep=';', usecols=['Natasha'])"
   ],
   "id": "c9a39dd790da4021",
   "outputs": [],
   "execution_count": 11
  },
  {
   "metadata": {
    "ExecuteTime": {
     "end_time": "2025-06-19T10:21:03.657475Z",
     "start_time": "2025-06-19T10:21:03.630828Z"
    }
   },
   "cell_type": "code",
   "source": [
    "questions_pd['Natasha_no_hyphen'] = questions_pd['Natasha'].apply(lambda x: hyphen_start(str(x)))\n",
    "questions_pd['Natasha_no_hyphen'] = questions_pd['Natasha_no_hyphen'].apply(lambda x: extract_question_or_full(str(x)))\n",
    "questions_pd['Natasha_no_hyphen1'] = questions_pd['Natasha_no_hyphen'].apply(lambda x: extract_question_or_full2(str(x)))\n",
    "\n",
    "questions_pd[60:70]"
   ],
   "id": "eeca702211753216",
   "outputs": [
    {
     "data": {
      "text/plain": [
       "                                              Natasha  \\\n",
       "60                               Скажешь, нет, Гарри?   \n",
       "61  И все же иногда ему казалось (или он это приду...   \n",
       "62             – Хочешь пойдем наверх, потренируемся?   \n",
       "63              – Что это? – спросил он тетю Петунию.   \n",
       "64                                      Да и кому бы?   \n",
       "65     – Чего застрял? – раздался голос дяди Вернона.   \n",
       "66                         – Проверяешь, нет ли бомб?   \n",
       "67                    – Пап, смотри, что это у Гарри?   \n",
       "68  – Кто станет тебе писать? – осклабился дядя Ве...   \n",
       "69                     Откуда они знают, где он спит?   \n",
       "\n",
       "                                    Natasha_no_hyphen  \\\n",
       "60                               Скажешь, нет, Гарри?   \n",
       "61  И все же иногда ему казалось (или он это приду...   \n",
       "62               Хочешь пойдем наверх, потренируемся?   \n",
       "63                                           Что это?   \n",
       "64                                      Да и кому бы?   \n",
       "65                                      Чего застрял?   \n",
       "66                           Проверяешь, нет ли бомб?   \n",
       "67                      Пап, смотри, что это у Гарри?   \n",
       "68                            Кто станет тебе писать?   \n",
       "69                     Откуда они знают, где он спит?   \n",
       "\n",
       "                                   Natasha_no_hyphen1  \n",
       "60                               Скажешь, нет, Гарри?  \n",
       "61  И все же иногда ему казалось (или он это приду...  \n",
       "62               Хочешь пойдем наверх, потренируемся?  \n",
       "63                                           Что это?  \n",
       "64                                      Да и кому бы?  \n",
       "65                                      Чего застрял?  \n",
       "66                           Проверяешь, нет ли бомб?  \n",
       "67                      Пап, смотри, что это у Гарри?  \n",
       "68                            Кто станет тебе писать?  \n",
       "69                     Откуда они знают, где он спит?  "
      ],
      "text/html": [
       "<div>\n",
       "<style scoped>\n",
       "    .dataframe tbody tr th:only-of-type {\n",
       "        vertical-align: middle;\n",
       "    }\n",
       "\n",
       "    .dataframe tbody tr th {\n",
       "        vertical-align: top;\n",
       "    }\n",
       "\n",
       "    .dataframe thead th {\n",
       "        text-align: right;\n",
       "    }\n",
       "</style>\n",
       "<table border=\"1\" class=\"dataframe\">\n",
       "  <thead>\n",
       "    <tr style=\"text-align: right;\">\n",
       "      <th></th>\n",
       "      <th>Natasha</th>\n",
       "      <th>Natasha_no_hyphen</th>\n",
       "      <th>Natasha_no_hyphen1</th>\n",
       "    </tr>\n",
       "  </thead>\n",
       "  <tbody>\n",
       "    <tr>\n",
       "      <th>60</th>\n",
       "      <td>Скажешь, нет, Гарри?</td>\n",
       "      <td>Скажешь, нет, Гарри?</td>\n",
       "      <td>Скажешь, нет, Гарри?</td>\n",
       "    </tr>\n",
       "    <tr>\n",
       "      <th>61</th>\n",
       "      <td>И все же иногда ему казалось (или он это приду...</td>\n",
       "      <td>И все же иногда ему казалось (или он это приду...</td>\n",
       "      <td>И все же иногда ему казалось (или он это приду...</td>\n",
       "    </tr>\n",
       "    <tr>\n",
       "      <th>62</th>\n",
       "      <td>– Хочешь пойдем наверх, потренируемся?</td>\n",
       "      <td>Хочешь пойдем наверх, потренируемся?</td>\n",
       "      <td>Хочешь пойдем наверх, потренируемся?</td>\n",
       "    </tr>\n",
       "    <tr>\n",
       "      <th>63</th>\n",
       "      <td>– Что это? – спросил он тетю Петунию.</td>\n",
       "      <td>Что это?</td>\n",
       "      <td>Что это?</td>\n",
       "    </tr>\n",
       "    <tr>\n",
       "      <th>64</th>\n",
       "      <td>Да и кому бы?</td>\n",
       "      <td>Да и кому бы?</td>\n",
       "      <td>Да и кому бы?</td>\n",
       "    </tr>\n",
       "    <tr>\n",
       "      <th>65</th>\n",
       "      <td>– Чего застрял? – раздался голос дяди Вернона.</td>\n",
       "      <td>Чего застрял?</td>\n",
       "      <td>Чего застрял?</td>\n",
       "    </tr>\n",
       "    <tr>\n",
       "      <th>66</th>\n",
       "      <td>– Проверяешь, нет ли бомб?</td>\n",
       "      <td>Проверяешь, нет ли бомб?</td>\n",
       "      <td>Проверяешь, нет ли бомб?</td>\n",
       "    </tr>\n",
       "    <tr>\n",
       "      <th>67</th>\n",
       "      <td>– Пап, смотри, что это у Гарри?</td>\n",
       "      <td>Пап, смотри, что это у Гарри?</td>\n",
       "      <td>Пап, смотри, что это у Гарри?</td>\n",
       "    </tr>\n",
       "    <tr>\n",
       "      <th>68</th>\n",
       "      <td>– Кто станет тебе писать? – осклабился дядя Ве...</td>\n",
       "      <td>Кто станет тебе писать?</td>\n",
       "      <td>Кто станет тебе писать?</td>\n",
       "    </tr>\n",
       "    <tr>\n",
       "      <th>69</th>\n",
       "      <td>Откуда они знают, где он спит?</td>\n",
       "      <td>Откуда они знают, где он спит?</td>\n",
       "      <td>Откуда они знают, где он спит?</td>\n",
       "    </tr>\n",
       "  </tbody>\n",
       "</table>\n",
       "</div>"
      ]
     },
     "execution_count": 12,
     "metadata": {},
     "output_type": "execute_result"
    }
   ],
   "execution_count": 12
  },
  {
   "metadata": {},
   "cell_type": "markdown",
   "source": [
    "## Step 2: Annotating questions \n",
    "\n",
    "Now I have 11 263 questions. Although I am super interested in one-word questions, for this model I need to remove them (:sadface:). I will apply tokenizer to each row and if a number is 2 (word and question mark), then it is unsuitable. \n",
    "\n",
    "Task: some words are written without a space, so they are not recognized correctly. I want to detect these words and fix them. \n",
    "How: bag of words? They shouldn't be very frequent."
   ],
   "id": "55f42c16f5c708b6"
  },
  {
   "metadata": {
    "ExecuteTime": {
     "end_time": "2025-06-19T10:21:03.662462Z",
     "start_time": "2025-06-19T10:21:03.658089Z"
    }
   },
   "cell_type": "code",
   "source": "questions_pd.count()",
   "id": "f65c9b34c5b65eec",
   "outputs": [
    {
     "data": {
      "text/plain": [
       "Natasha               11252\n",
       "Natasha_no_hyphen     11263\n",
       "Natasha_no_hyphen1    11263\n",
       "dtype: int64"
      ]
     },
     "execution_count": 13,
     "metadata": {},
     "output_type": "execute_result"
    }
   ],
   "execution_count": 13
  },
  {
   "metadata": {
    "ExecuteTime": {
     "end_time": "2025-06-19T10:21:03.664782Z",
     "start_time": "2025-06-19T10:21:03.663071Z"
    }
   },
   "cell_type": "code",
   "source": [
    "from nltk.tokenize import word_tokenize\n",
    "def counting_tokens(text):\n",
    "    doc = Doc(text)\n",
    "    doc.segment(segmenter)\n",
    "    return len(doc.tokens)"
   ],
   "id": "761356e615e69f45",
   "outputs": [],
   "execution_count": 14
  },
  {
   "metadata": {
    "ExecuteTime": {
     "end_time": "2025-06-19T10:21:04.080110Z",
     "start_time": "2025-06-19T10:21:03.665555Z"
    }
   },
   "cell_type": "code",
   "source": [
    "questions_pd['Tokens'] = questions_pd['Natasha_no_hyphen1'].apply(lambda x: counting_tokens(str(x)))\n",
    "questions_pd[:10]"
   ],
   "id": "3a10f7716b22b9fa",
   "outputs": [
    {
     "data": {
      "text/plain": [
       "                                             Natasha  \\\n",
       "0  «Это что, нормально для кошки?» – нервно подум...   \n",
       "1           Что, будут у нас вечером совопады, Джим?   \n",
       "2                Метеоритные дожди по всей Британии?   \n",
       "3                               Совы средь бела дня?   \n",
       "4                           Странные люди в мантиях?   \n",
       "5  Петуния, дорогая… к слову… про сестру твою нич...   \n",
       "6                                           – А что?   \n",
       "7                – И что? – перебила миссис Дурслей.   \n",
       "8  Мистер Дурслей колебался: говорить или нет, чт...   \n",
       "9        Он ведь по возрасту примерно как наш Дудли?   \n",
       "\n",
       "                                   Natasha_no_hyphen  \\\n",
       "0  «Это что, нормально для кошки?» – нервно подум...   \n",
       "1           Что, будут у нас вечером совопады, Джим?   \n",
       "2                Метеоритные дожди по всей Британии?   \n",
       "3                               Совы средь бела дня?   \n",
       "4                           Странные люди в мантиях?   \n",
       "5  Петуния, дорогая… к слову… про сестру твою нич...   \n",
       "6                                             А что?   \n",
       "7                                             И что?   \n",
       "8  Мистер Дурслей колебался: говорить или нет, чт...   \n",
       "9        Он ведь по возрасту примерно как наш Дудли?   \n",
       "\n",
       "                                  Natasha_no_hyphen1  Tokens  \n",
       "0  «Это что, нормально для кошки?» – нервно подум...      26  \n",
       "1           Что, будут у нас вечером совопады, Джим?      10  \n",
       "2                Метеоритные дожди по всей Британии?       6  \n",
       "3                               Совы средь бела дня?       5  \n",
       "4                           Странные люди в мантиях?       5  \n",
       "5  Петуния, дорогая… к слову… про сестру твою нич...      14  \n",
       "6                                             А что?       3  \n",
       "7                                             И что?       3  \n",
       "8  Мистер Дурслей колебался: говорить или нет, чт...      17  \n",
       "9        Он ведь по возрасту примерно как наш Дудли?       9  "
      ],
      "text/html": [
       "<div>\n",
       "<style scoped>\n",
       "    .dataframe tbody tr th:only-of-type {\n",
       "        vertical-align: middle;\n",
       "    }\n",
       "\n",
       "    .dataframe tbody tr th {\n",
       "        vertical-align: top;\n",
       "    }\n",
       "\n",
       "    .dataframe thead th {\n",
       "        text-align: right;\n",
       "    }\n",
       "</style>\n",
       "<table border=\"1\" class=\"dataframe\">\n",
       "  <thead>\n",
       "    <tr style=\"text-align: right;\">\n",
       "      <th></th>\n",
       "      <th>Natasha</th>\n",
       "      <th>Natasha_no_hyphen</th>\n",
       "      <th>Natasha_no_hyphen1</th>\n",
       "      <th>Tokens</th>\n",
       "    </tr>\n",
       "  </thead>\n",
       "  <tbody>\n",
       "    <tr>\n",
       "      <th>0</th>\n",
       "      <td>«Это что, нормально для кошки?» – нервно подум...</td>\n",
       "      <td>«Это что, нормально для кошки?» – нервно подум...</td>\n",
       "      <td>«Это что, нормально для кошки?» – нервно подум...</td>\n",
       "      <td>26</td>\n",
       "    </tr>\n",
       "    <tr>\n",
       "      <th>1</th>\n",
       "      <td>Что, будут у нас вечером совопады, Джим?</td>\n",
       "      <td>Что, будут у нас вечером совопады, Джим?</td>\n",
       "      <td>Что, будут у нас вечером совопады, Джим?</td>\n",
       "      <td>10</td>\n",
       "    </tr>\n",
       "    <tr>\n",
       "      <th>2</th>\n",
       "      <td>Метеоритные дожди по всей Британии?</td>\n",
       "      <td>Метеоритные дожди по всей Британии?</td>\n",
       "      <td>Метеоритные дожди по всей Британии?</td>\n",
       "      <td>6</td>\n",
       "    </tr>\n",
       "    <tr>\n",
       "      <th>3</th>\n",
       "      <td>Совы средь бела дня?</td>\n",
       "      <td>Совы средь бела дня?</td>\n",
       "      <td>Совы средь бела дня?</td>\n",
       "      <td>5</td>\n",
       "    </tr>\n",
       "    <tr>\n",
       "      <th>4</th>\n",
       "      <td>Странные люди в мантиях?</td>\n",
       "      <td>Странные люди в мантиях?</td>\n",
       "      <td>Странные люди в мантиях?</td>\n",
       "      <td>5</td>\n",
       "    </tr>\n",
       "    <tr>\n",
       "      <th>5</th>\n",
       "      <td>Петуния, дорогая… к слову… про сестру твою нич...</td>\n",
       "      <td>Петуния, дорогая… к слову… про сестру твою нич...</td>\n",
       "      <td>Петуния, дорогая… к слову… про сестру твою нич...</td>\n",
       "      <td>14</td>\n",
       "    </tr>\n",
       "    <tr>\n",
       "      <th>6</th>\n",
       "      <td>– А что?</td>\n",
       "      <td>А что?</td>\n",
       "      <td>А что?</td>\n",
       "      <td>3</td>\n",
       "    </tr>\n",
       "    <tr>\n",
       "      <th>7</th>\n",
       "      <td>– И что? – перебила миссис Дурслей.</td>\n",
       "      <td>И что?</td>\n",
       "      <td>И что?</td>\n",
       "      <td>3</td>\n",
       "    </tr>\n",
       "    <tr>\n",
       "      <th>8</th>\n",
       "      <td>Мистер Дурслей колебался: говорить или нет, чт...</td>\n",
       "      <td>Мистер Дурслей колебался: говорить или нет, чт...</td>\n",
       "      <td>Мистер Дурслей колебался: говорить или нет, чт...</td>\n",
       "      <td>17</td>\n",
       "    </tr>\n",
       "    <tr>\n",
       "      <th>9</th>\n",
       "      <td>Он ведь по возрасту примерно как наш Дудли?</td>\n",
       "      <td>Он ведь по возрасту примерно как наш Дудли?</td>\n",
       "      <td>Он ведь по возрасту примерно как наш Дудли?</td>\n",
       "      <td>9</td>\n",
       "    </tr>\n",
       "  </tbody>\n",
       "</table>\n",
       "</div>"
      ]
     },
     "execution_count": 15,
     "metadata": {},
     "output_type": "execute_result"
    }
   ],
   "execution_count": 15
  },
  {
   "metadata": {
    "ExecuteTime": {
     "end_time": "2025-06-19T10:21:04.091274Z",
     "start_time": "2025-06-19T10:21:04.080821Z"
    }
   },
   "cell_type": "code",
   "source": [
    "questions_pd = questions_pd.loc[questions_pd['Tokens'] > 2].copy()\n",
    "questions_pd_ready = questions_pd.loc[questions_pd['Tokens'] < 30].copy()\n",
    "\n",
    "questions_pd_ready.count()"
   ],
   "id": "bc09a8b7c4626f19",
   "outputs": [
    {
     "data": {
      "text/plain": [
       "Natasha               9816\n",
       "Natasha_no_hyphen     9816\n",
       "Natasha_no_hyphen1    9816\n",
       "Tokens                9816\n",
       "dtype: int64"
      ]
     },
     "execution_count": 16,
     "metadata": {},
     "output_type": "execute_result"
    }
   ],
   "execution_count": 16
  },
  {
   "metadata": {
    "ExecuteTime": {
     "end_time": "2025-06-19T10:21:04.744128Z",
     "start_time": "2025-06-19T10:21:04.092273Z"
    }
   },
   "cell_type": "code",
   "source": [
    "from natasha import NewsEmbedding, NewsSyntaxParser, MorphVocab, NewsMorphTagger\n",
    "\n",
    "morph_vocab = MorphVocab()\n",
    "\n",
    "emb = NewsEmbedding()\n",
    "morph_tagger = NewsMorphTagger(emb)  \n",
    "syntax_parser = NewsSyntaxParser(emb)"
   ],
   "id": "5cb9198023b0c088",
   "outputs": [],
   "execution_count": 17
  },
  {
   "metadata": {},
   "cell_type": "markdown",
   "source": [
    "Now I have 9 963 questions that are more than 2 tokens. The next step is to automatically annotate wh-questions and polar questions. One can say 'oh, it's easy, just find all wh-words,' but it is not. Below are the examples of *что* 'what.' The first one is a polar question with *что* as a particle, then as a conjunction, and only the last two are wh-questions. I need to know how to distinguish them. \n",
    "\n",
    "The first and the easiest step is to find all questions without any wh-word. I need to create a list of wh-words and then check whether any item from this list is in a question. If it is not, then it is probably a PQ. I asked ChatGPT to create this list.\n",
    "\n",
    "I make a column with lemmas for each question. "
   ],
   "id": "88a73bad375a53a3"
  },
  {
   "metadata": {
    "ExecuteTime": {
     "end_time": "2025-06-19T10:21:17.057122Z",
     "start_time": "2025-06-19T10:21:04.746020Z"
    }
   },
   "cell_type": "code",
   "source": [
    "def question_lemmas(text):\n",
    "    doc = Doc(text)\n",
    "    doc.segment(segmenter)\n",
    "    doc.tag_morph(morph_tagger)\n",
    "    \n",
    "    lemmas = []\n",
    "    for token in doc.tokens:\n",
    "        token.lemmatize(morph_vocab)\n",
    "        lemmas.append({token.pos:token.lemma})\n",
    "    return lemmas\n",
    "\n",
    "questions_pd_ready['Lemmas'] = questions_pd_ready['Natasha_no_hyphen1'].apply(lambda x: question_lemmas(str(x)))"
   ],
   "id": "846683670e82d63d",
   "outputs": [],
   "execution_count": 18
  },
  {
   "metadata": {},
   "cell_type": "markdown",
   "source": "So now I am going to check if a wh-word is in lemmas. The first step is to create a list of all Russian wh-words. ",
   "id": "fb6e73bfdd5223d0"
  },
  {
   "metadata": {
    "ExecuteTime": {
     "end_time": "2025-06-19T10:21:17.075867Z",
     "start_time": "2025-06-19T10:21:17.062449Z"
    }
   },
   "cell_type": "code",
   "source": [
    "wh_words_ru = [\n",
    "    # Nominative case (interrogative pronouns & adjectives)\n",
    "    \"кто\",\n",
    "    \"что\",\n",
    "    \"чей\",    # masc. nom.\n",
    "    \"чья\",    # fem. nom.\n",
    "    \"чье\",    # neut. nom.\n",
    "    \"чьи\",    # plural nom.\n",
    "    \"какой\",  # masc. nom.\n",
    "    \"какая\",  # fem. nom.\n",
    "    \"какое\",  # neut. nom.\n",
    "    \"какие\",  # plural nom.\n",
    "    \"сколько\",\n",
    "\n",
    "    # Interrogative adverbs (indeclinable)\n",
    "    \"где\",\n",
    "    \"куда\",\n",
    "    \"откуда\",\n",
    "    \"когда\",\n",
    "    \"почему\",\n",
    "    \"зачем\",\n",
    "    \"как\",\n",
    "    \"насколько\",\n",
    "    \"почему бы\",\n",
    "    \"отчего\",\n",
    "    \"почем\"\n",
    "]\n",
    "\n",
    "def is_wh_word_str(lemmas):\n",
    "    found = []\n",
    "    for item in lemmas:\n",
    "        value = list(item.values())[0]\n",
    "        if value in wh_words_ru:\n",
    "            found.append(value)\n",
    "    if not found:\n",
    "        return 0\n",
    "    return '; '.join(found)\n",
    "\n",
    "def is_wh_word_dict(lemmas):\n",
    "    found = []\n",
    "    for item in lemmas:\n",
    "        key, value = list(item.items())[0]  # get both POS tag and the word\n",
    "        if value in wh_words_ru:\n",
    "            found.append(item)\n",
    "    if not found:\n",
    "        return 0\n",
    "    return found\n"
   ],
   "id": "195e9cc38f1d0095",
   "outputs": [],
   "execution_count": 19
  },
  {
   "metadata": {
    "ExecuteTime": {
     "end_time": "2025-06-19T10:21:17.166845Z",
     "start_time": "2025-06-19T10:21:17.080973Z"
    }
   },
   "cell_type": "code",
   "source": [
    "questions_pd_ready['wh_words'] = questions_pd_ready['Lemmas'].apply(lambda x: is_wh_word_str(x)) \n",
    "questions_pd_ready['wh_dicts'] = questions_pd_ready['Lemmas'].apply(lambda x: is_wh_word_dict(x)) "
   ],
   "id": "2dc28b2c300cf054",
   "outputs": [],
   "execution_count": 20
  },
  {
   "metadata": {
    "ExecuteTime": {
     "end_time": "2025-06-19T10:21:17.183501Z",
     "start_time": "2025-06-19T10:21:17.168402Z"
    }
   },
   "cell_type": "code",
   "source": [
    "questions_pd_all_wh = questions_pd_ready.loc[questions_pd_ready['wh_words'] != 0].copy()\n",
    "questions_pd_all_wh.count()"
   ],
   "id": "e9ce6233aac092d5",
   "outputs": [
    {
     "data": {
      "text/plain": [
       "Natasha               5377\n",
       "Natasha_no_hyphen     5377\n",
       "Natasha_no_hyphen1    5377\n",
       "Tokens                5377\n",
       "Lemmas                5377\n",
       "wh_words              5377\n",
       "wh_dicts              5377\n",
       "dtype: int64"
      ]
     },
     "execution_count": 21,
     "metadata": {},
     "output_type": "execute_result"
    }
   ],
   "execution_count": 21
  },
  {
   "metadata": {
    "ExecuteTime": {
     "end_time": "2025-06-19T10:21:17.211309Z",
     "start_time": "2025-06-19T10:21:17.185631Z"
    }
   },
   "cell_type": "code",
   "source": [
    "questions_pd_no_wh = questions_pd_ready.loc[questions_pd_ready['wh_words'] == 0].copy()\n",
    "questions_pd_no_wh.count()"
   ],
   "id": "81c7288289ece3d",
   "outputs": [
    {
     "data": {
      "text/plain": [
       "Natasha               4439\n",
       "Natasha_no_hyphen     4439\n",
       "Natasha_no_hyphen1    4439\n",
       "Tokens                4439\n",
       "Lemmas                4439\n",
       "wh_words              4439\n",
       "wh_dicts              4439\n",
       "dtype: int64"
      ]
     },
     "execution_count": 22,
     "metadata": {},
     "output_type": "execute_result"
    }
   ],
   "execution_count": 22
  },
  {
   "metadata": {},
   "cell_type": "markdown",
   "source": [
    "### Annotating questions with 'что'\n",
    "\n",
    "I want to take a look at the unique values in `questions_pd_all_wh`. Out of 5 492 questions containing any wh-word, I have 2 471 questions with only 'что.' It can be a pronoun, then a question is a wh-question. It also can be a conjunction and then the question type is not clear. "
   ],
   "id": "10fa9adf30e1d6ac"
  },
  {
   "metadata": {
    "ExecuteTime": {
     "end_time": "2025-06-19T10:21:17.228592Z",
     "start_time": "2025-06-19T10:21:17.213940Z"
    }
   },
   "cell_type": "code",
   "source": "questions_pd_all_wh['wh_words'].value_counts()",
   "id": "4161c1773763c24d",
   "outputs": [
    {
     "data": {
      "text/plain": [
       "wh_words\n",
       "что                  2448\n",
       "как                   799\n",
       "кто                   390\n",
       "почему                302\n",
       "где                   265\n",
       "                     ... \n",
       "откуда; куда            1\n",
       "зачем; зачем            1\n",
       "насколько; как          1\n",
       "что; откуда             1\n",
       "какой; кто; какой       1\n",
       "Name: count, Length: 122, dtype: int64"
      ]
     },
     "execution_count": 23,
     "metadata": {},
     "output_type": "execute_result"
    }
   ],
   "execution_count": 23
  },
  {
   "metadata": {
    "ExecuteTime": {
     "end_time": "2025-06-19T10:21:17.244238Z",
     "start_time": "2025-06-19T10:21:17.231138Z"
    }
   },
   "cell_type": "code",
   "source": [
    "questions_pd_what = questions_pd_ready.loc[questions_pd_ready['wh_words'] == 'что'].copy()\n",
    "questions_pd_what['wh_dicts'].value_counts()"
   ],
   "id": "5ef5b4497120d8bd",
   "outputs": [
    {
     "data": {
      "text/plain": [
       "wh_dicts\n",
       "[{'PRON': 'что'}]     1782\n",
       "[{'SCONJ': 'что'}]     648\n",
       "[{'PROPN': 'что'}]      13\n",
       "[{'PART': 'что'}]        3\n",
       "[{'NOUN': 'что'}]        2\n",
       "Name: count, dtype: int64"
      ]
     },
     "execution_count": 24,
     "metadata": {},
     "output_type": "execute_result"
    }
   ],
   "execution_count": 24
  },
  {
   "metadata": {
    "ExecuteTime": {
     "end_time": "2025-06-19T10:21:17.262882Z",
     "start_time": "2025-06-19T10:21:17.251347Z"
    }
   },
   "cell_type": "code",
   "source": [
    "questions_pd_all_wh['wh_words'].value_counts()\n",
    "questions_pd_who = questions_pd_ready.loc[questions_pd_ready['wh_words'] == 'кто'].copy()\n",
    "questions_pd_who['wh_dicts'].value_counts()"
   ],
   "id": "9825f474f0d1a226",
   "outputs": [
    {
     "data": {
      "text/plain": [
       "wh_dicts\n",
       "[{'PRON': 'кто'}]     381\n",
       "[{'VERB': 'кто'}]       3\n",
       "[{'PROPN': 'кто'}]      3\n",
       "[{'NOUN': 'кто'}]       2\n",
       "[{'PART': 'кто'}]       1\n",
       "Name: count, dtype: int64"
      ]
     },
     "execution_count": 25,
     "metadata": {},
     "output_type": "execute_result"
    }
   ],
   "execution_count": 25
  },
  {
   "metadata": {
    "ExecuteTime": {
     "end_time": "2025-06-19T14:29:49.826226Z",
     "start_time": "2025-06-19T14:29:49.757219Z"
    }
   },
   "cell_type": "code",
   "source": [
    "questions_pd_zacem = questions_pd_ready.loc[questions_pd_ready['wh_words'] == 'зачем'].copy()\n",
    "questions_pd_zacem.to_csv('questions/csvs/questions_pd_zacem.csv', \n",
    "                          columns=['Natasha_no_hyphen1', 'Tokens', 'Lemmas', \n",
    "                                   'wh_words', 'wh_dicts'], \n",
    "                          sep=';') "
   ],
   "id": "32e8e0768e2398a",
   "outputs": [],
   "execution_count": 72
  },
  {
   "metadata": {
    "ExecuteTime": {
     "end_time": "2025-06-19T14:25:54.049193Z",
     "start_time": "2025-06-19T14:18:24.179845Z"
    }
   },
   "cell_type": "code",
   "source": [
    "def manual_anno(csv): \n",
    "    questions = pd.read_csv(csv, sep=';')\n",
    "    questions = questions.dropna(how='all')\n",
    "    annotation = []\n",
    "    for question in questions.iloc[:, 1]:\n",
    "        answer = input(f\"Is this a PQ? ---- {question}\")\n",
    "        annotation.append(answer)\n",
    "    questions['annotation'] = annotation\n",
    "    questions.to_csv(csv, index=False)\n",
    "    "
   ],
   "id": "fa76c5d588b37be1",
   "outputs": [],
   "execution_count": null
  },
  {
   "metadata": {
    "ExecuteTime": {
     "end_time": "2025-06-19T14:35:57.056251Z",
     "start_time": "2025-06-19T14:29:52.072409Z"
    }
   },
   "cell_type": "code",
   "source": "manual_anno('questions/csvs/questions_pd_zacem.csv')   ",
   "id": "1d9f16f1ff604eca",
   "outputs": [],
   "execution_count": 73
  },
  {
   "metadata": {
    "ExecuteTime": {
     "end_time": "2025-06-19T10:21:17.278693Z",
     "start_time": "2025-06-19T10:21:17.268177Z"
    }
   },
   "cell_type": "code",
   "source": [
    "questions_pd_who.to_csv('questions/csvs/questions_pd_who.csv', \n",
    "                          columns=['Natasha_no_hyphen1', 'Tokens', 'Lemmas', \n",
    "                                   'wh_words', 'wh_dicts'], \n",
    "                          sep=';') "
   ],
   "id": "71c2c2ab4157ccf1",
   "outputs": [],
   "execution_count": 26
  },
  {
   "metadata": {
    "ExecuteTime": {
     "end_time": "2025-06-19T10:21:17.288303Z",
     "start_time": "2025-06-19T10:21:17.281300Z"
    }
   },
   "cell_type": "code",
   "source": [
    "questions_pd_more30 = questions_pd_ready.loc[questions_pd_ready['Tokens'] > 30]\n",
    "questions_pd_more30.count()\n",
    "questions_pd_more30.to_csv('questions/csvs/questions_pd_more30.csv', \n",
    "                          columns=['Natasha_no_hyphen1', 'Tokens', 'Lemmas', \n",
    "                                   'wh_words', 'wh_dicts'], \n",
    "                          sep=';') "
   ],
   "id": "1302787cb9824aa1",
   "outputs": [],
   "execution_count": 27
  },
  {
   "metadata": {
    "ExecuteTime": {
     "end_time": "2025-06-19T10:21:17.324719Z",
     "start_time": "2025-06-19T10:21:17.291080Z"
    }
   },
   "cell_type": "code",
   "source": [
    "questions_pd_what.to_csv('questions/csvs/questions_pd_what.csv', \n",
    "                         columns=['Natasha_no_hyphen1', 'Tokens', 'Lemmas', \n",
    "                                   'wh_words', 'wh_dicts'], \n",
    "                          sep=';') "
   ],
   "id": "fc7ce6bb09e7cb39",
   "outputs": [],
   "execution_count": 28
  },
  {
   "metadata": {
    "ExecuteTime": {
     "end_time": "2025-06-19T10:21:17.358062Z",
     "start_time": "2025-06-19T10:21:17.326546Z"
    }
   },
   "cell_type": "code",
   "source": [
    "questions_pd_no_wh.to_csv('questions/csvs/questions_pd_no_wh.csv', \n",
    "                          columns=['Natasha_no_hyphen1', 'Tokens', 'Lemmas', 'wh_words'], \n",
    "                          sep=';') "
   ],
   "id": "988957cce85698f0",
   "outputs": [],
   "execution_count": 29
  },
  {
   "metadata": {
    "ExecuteTime": {
     "end_time": "2025-06-19T10:21:17.396541Z",
     "start_time": "2025-06-19T10:21:17.358968Z"
    }
   },
   "cell_type": "code",
   "source": [
    "questions_pd_all_wh.to_csv('questions/csvs/questions_pd_all_wh.csv', \n",
    "                           columns=['Natasha_no_hyphen1', 'Tokens', 'Lemmas', 'wh_words'], \n",
    "                           sep=';') "
   ],
   "id": "111d61f8ea61d06b",
   "outputs": [],
   "execution_count": 30
  },
  {
   "metadata": {
    "ExecuteTime": {
     "end_time": "2025-06-19T10:21:17.463452Z",
     "start_time": "2025-06-19T10:21:17.397083Z"
    }
   },
   "cell_type": "code",
   "source": [
    "questions_pd_ready.to_csv('questions/csvs/questions_pd_ready.csv', \n",
    "                          columns=['Natasha_no_hyphen1', 'Tokens', 'Lemmas', 'wh_words', 'wh_dicts'], \n",
    "                          sep=';') "
   ],
   "id": "8b45900a4f07e020",
   "outputs": [],
   "execution_count": 31
  },
  {
   "metadata": {
    "ExecuteTime": {
     "end_time": "2025-06-19T10:21:17.495161Z",
     "start_time": "2025-06-19T10:21:17.464067Z"
    }
   },
   "cell_type": "code",
   "source": "questions_pd.to_csv('questions/csvs/questions_pd.csv', sep=';') ",
   "id": "470eef68b75e1120",
   "outputs": [],
   "execution_count": 32
  }
 ],
 "metadata": {
  "kernelspec": {
   "display_name": "Python 3",
   "language": "python",
   "name": "python3"
  },
  "language_info": {
   "codemirror_mode": {
    "name": "ipython",
    "version": 2
   },
   "file_extension": ".py",
   "mimetype": "text/x-python",
   "name": "python",
   "nbconvert_exporter": "python",
   "pygments_lexer": "ipython2",
   "version": "2.7.6"
  }
 },
 "nbformat": 4,
 "nbformat_minor": 5
}
