{
 "cells": [
  {
   "metadata": {},
   "cell_type": "markdown",
   "source": "# HU-LLM-Text Mistral Large testing \n",
   "id": "2e7f53ba3fc3550"
  },
  {
   "metadata": {
    "ExecuteTime": {
     "end_time": "2025-07-08T13:19:57.243796Z",
     "start_time": "2025-07-08T13:19:55.565399Z"
    }
   },
   "cell_type": "code",
   "source": [
    "from gradio_client import Client\n",
    "\n",
    "client = Client(\"https://llm1-compute.cms.hu-berlin.de/\")\n",
    "result = client.predict(\n",
    "\t\tparam_0=\"Hello!!\",\n",
    "\t\tapi_name=\"/chat\"\n",
    ")\n",
    "print(result)"
   ],
   "id": "b2dc70bcb969be63",
   "outputs": [
    {
     "name": "stdout",
     "output_type": "stream",
     "text": [
      "Loaded as API: https://llm1-compute.cms.hu-berlin.de/ ✔\n",
      " Hello! How can I assist you today? Let's have a friendly conversation.  How are you doing?\n"
     ]
    }
   ],
   "execution_count": 1
  },
  {
   "metadata": {
    "ExecuteTime": {
     "end_time": "2025-07-08T13:22:49.874150Z",
     "start_time": "2025-07-08T13:22:27.614512Z"
    }
   },
   "cell_type": "code",
   "source": [
    "result = client.predict(\n",
    "\t\tparam_0=\"Please describe intonation in English polar questions with examples\",\n",
    "\t\tapi_name=\"/chat\"\n",
    ")\n",
    "print(result)"
   ],
   "id": "763b0a5b6db73c6d",
   "outputs": [
    {
     "name": "stdout",
     "output_type": "stream",
     "text": [
      " Intonation in English polar questions (yes/no questions) plays a crucial role in conveying the speaker's intent and expectations. Here are some key points about intonation in polar questions, along with examples:\n",
      "\n",
      "1. **Rising Intonation**: This is the most common intonation pattern used in polar questions. The pitch of the voice rises towards the end of the sentence, indicating that the speaker is genuinely asking for information.\n",
      "   - Example: \"Are you going to the store? ⤴\" (The arrow indicates rising intonation.)\n",
      "   - In this case, the speaker is genuinely asking if the listener is going to the store.\n",
      "\n",
      "2. **Falling Intonation**: This pattern is less common in polar questions but can be used to express surprise, disbelief, or to convey that the speaker expects agreement or has a strong expectation about the answer.\n",
      "   - Example: \"You're going to the store? ⤵\" (The arrow indicates falling intonation.)\n",
      "   - Here, the speaker might be expressing surprise or disbelief that the listener is going to the store.\n",
      "\n",
      "3. **Rise-Fall Intonation**: This pattern combines both rising and falling intonation. The pitch rises and then falls, often used to express sarcasm, skepticism, or to challenge the listener.\n",
      "   - Example: \"Oh, you're going to the store? ⤴⤵\"\n",
      "   - In this case, the speaker might be expressing skepticism or challenging the listener's statement.\n",
      "\n",
      "4. **Level Intonation**: This pattern involves maintaining a relatively constant pitch throughout the question. It can convey a sense of formality, seriousness, or neutrality.\n",
      "   - Example: \"Are you going to the store? →\" (The arrow indicates level intonation.)\n",
      "   - Here, the speaker is asking the question in a neutral or formal manner.\n",
      "\n",
      "Understanding these intonation patterns can help you better convey your intentions and interpret the intentions of others in English conversations.\n"
     ]
    }
   ],
   "execution_count": 2
  },
  {
   "metadata": {
    "ExecuteTime": {
     "end_time": "2025-07-08T13:24:18.816822Z",
     "start_time": "2025-07-08T13:24:01.110890Z"
    }
   },
   "cell_type": "code",
   "source": [
    "result = client.predict(\n",
    "\t\tparam_0=\"Can you please provide the sources of it?\",\n",
    "\t\tapi_name=\"/chat\"\n",
    ")\n",
    "print(result)"
   ],
   "id": "1da4fa297c55ce94",
   "outputs": [
    {
     "name": "stdout",
     "output_type": "stream",
     "text": [
      " The information provided about intonation in English polar questions is based on well-established principles in linguistics and English language teaching. While I don't have direct access to specific sources or the ability to cite them directly, the concepts are drawn from widely accepted knowledge in the field. Here are some general references where you can find more detailed information:\n",
      "\n",
      "1. **Linguistics Textbooks**:\n",
      "   - \"An Introduction to the English Language\" by David Crystal\n",
      "   - \"English Phonetics and Phonology\" by Peter Roach\n",
      "   - \"The Sounds of English and Their History\" by Jeremy Smith\n",
      "\n",
      "2. **English Language Teaching Resources**:\n",
      "   - \"Teaching Pronunciation\" by Celce-Murcia, Brinton, and Goodwin\n",
      "   - \"English Phonetics and Phonology: A Practical Course\" by Peter Roach\n",
      "\n",
      "3. **Academic Journals and Articles**:\n",
      "   - Articles in journals such as \"Journal of Phonetics,\" \"Language,\" and \"Applied Linguistics\" often discuss intonation patterns in various contexts.\n",
      "\n",
      "4. **Online Resources**:\n",
      "   - Websites like the British Council's \"LearnEnglish\" and the BBC's \"Learning English\" often provide practical guides and examples of English intonation.\n",
      "\n",
      "For specific academic sources, you might want to look up scholarly articles and books on intonation in linguistic databases such as JSTOR, Google Scholar, or your university library's catalog.\n"
     ]
    }
   ],
   "execution_count": 3
  },
  {
   "metadata": {
    "ExecuteTime": {
     "end_time": "2025-07-08T14:19:58.772854Z",
     "start_time": "2025-07-08T14:19:58.758134Z"
    }
   },
   "cell_type": "code",
   "source": [
    "import os\n",
    "def len_file(folder_path):\n",
    "\n",
    "    # Get a list of all .txt files in the folder\n",
    "    txt_files = [f for f in os.listdir(folder_path) if f.endswith('.txt')]\n",
    "\n",
    "    for file_name in txt_files:\n",
    "        file_path = os.path.join(folder_path, file_name)\n",
    "\n",
    "        # Read the file\n",
    "        with open(file_path, 'r') as file:\n",
    "            lines = file.read()\n",
    "            length = len(lines)\n",
    "\n",
    "        print(f\"Characters in {file_name}: {length}\")\n",
    "        \n",
    "# Example usage\n",
    "folder_path = '/Users/maria.onoeva/Desktop/new_folder/GitHub/nlp-repo/HU_LLM/words_folder'  # Replace with the path to your folder\n",
    "len_file(folder_path)\n"
   ],
   "id": "3c2384ea581e0b99",
   "outputs": [
    {
     "name": "stdout",
     "output_type": "stream",
     "text": [
      "Words in words_8.txt: 3925\n",
      "Words in words_9.txt: 2944\n",
      "Words in words_4.txt: 3098\n",
      "Words in words_5.txt: 3650\n",
      "Words in words_7.txt: 4421\n",
      "Words in words_6.txt: 4169\n",
      "Words in words_2.txt: 2158\n",
      "Words in words_3.txt: 2670\n",
      "Words in words_1.txt: 1529\n"
     ]
    }
   ],
   "execution_count": 18
  },
  {
   "metadata": {},
   "cell_type": "code",
   "outputs": [],
   "execution_count": null,
   "source": "",
   "id": "38caae6d0dce531c"
  }
 ],
 "metadata": {
  "kernelspec": {
   "display_name": "Python 3",
   "language": "python",
   "name": "python3"
  },
  "language_info": {
   "codemirror_mode": {
    "name": "ipython",
    "version": 2
   },
   "file_extension": ".py",
   "mimetype": "text/x-python",
   "name": "python",
   "nbconvert_exporter": "python",
   "pygments_lexer": "ipython2",
   "version": "2.7.6"
  }
 },
 "nbformat": 4,
 "nbformat_minor": 5
}
